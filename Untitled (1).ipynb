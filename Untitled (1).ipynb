{
 "cells": [
  {
   "cell_type": "markdown",
   "id": "02fdeec0",
   "metadata": {},
   "source": [
    "1.\tWrite a Python program to print \"Hello Python\"?\n",
    "2.\tWrite a Python program to do arithmetical operations addition and division.?\n",
    "3.\tWrite a Python program to find the area of a triangle?\n",
    "4.\tWrite a Python program to swap two variables?\n",
    "5.\tWrite a Python program to generate a random number?\n"
   ]
  },
  {
   "cell_type": "code",
   "execution_count": 1,
   "id": "f0d4436d",
   "metadata": {},
   "outputs": [
    {
     "name": "stdout",
     "output_type": "stream",
     "text": [
      "helloPython\n"
     ]
    }
   ],
   "source": [
    "print(\"helloPython\")"
   ]
  },
  {
   "cell_type": "markdown",
   "id": "9ae774ca",
   "metadata": {},
   "source": [
    "##### write a python program to do arithmetical operation addition and division"
   ]
  },
  {
   "cell_type": "code",
   "execution_count": 2,
   "id": "8910f0a0",
   "metadata": {},
   "outputs": [
    {
     "name": "stdout",
     "output_type": "stream",
     "text": [
      "15\n"
     ]
    }
   ],
   "source": [
    "a=12\n",
    "b=3\n",
    "# add the number\n",
    "print(a+b)"
   ]
  },
  {
   "cell_type": "code",
   "execution_count": 3,
   "id": "7653a232",
   "metadata": {},
   "outputs": [
    {
     "name": "stdout",
     "output_type": "stream",
     "text": [
      "4.0\n"
     ]
    }
   ],
   "source": [
    "a1=20\n",
    "b1=5\n",
    "#divide the number\n",
    "print(a1/b1)\n"
   ]
  },
  {
   "cell_type": "markdown",
   "id": "a79e40d3",
   "metadata": {},
   "source": [
    "#### Write a Python program to find the area of a triangle?"
   ]
  },
  {
   "cell_type": "code",
   "execution_count": 4,
   "id": "6d3c6ba6",
   "metadata": {},
   "outputs": [
    {
     "name": "stdout",
     "output_type": "stream",
     "text": [
      "Enter the base of the triangle: 5\n",
      "Enter the height of the triangle: 6\n",
      "Area of triangle =  15.0\n"
     ]
    }
   ],
   "source": [
    "#take inputs\n",
    "base = float(input('Enter the base of the triangle: '))\n",
    "height = float(input('Enter the height of the triangle: '))\n",
    "\n",
    "# calculate area of triangle\n",
    "area = (1/2) * base * height\n",
    "\n",
    "# display result\n",
    "print('Area of triangle = ',area)"
   ]
  },
  {
   "cell_type": "markdown",
   "id": "b0e2e097",
   "metadata": {},
   "source": [
    "### Write a Python program to swap two variables?"
   ]
  },
  {
   "cell_type": "code",
   "execution_count": 16,
   "id": "7ccf3572",
   "metadata": {},
   "outputs": [
    {
     "name": "stdout",
     "output_type": "stream",
     "text": [
      "Value of a: 20\n",
      "Value of b: 20\n"
     ]
    }
   ],
   "source": [
    "a=10\n",
    "b=20\n",
    "temp=a\n",
    "a=b\n",
    "print(\"Value of a:\", a)\n",
    "print(\"Value of b:\", b)\n"
   ]
  },
  {
   "cell_type": "markdown",
   "id": "eca24bc1",
   "metadata": {},
   "source": [
    "### Write a Python program to generate a random number?\n"
   ]
  },
  {
   "cell_type": "code",
   "execution_count": 12,
   "id": "2005fa83",
   "metadata": {},
   "outputs": [
    {
     "name": "stdout",
     "output_type": "stream",
     "text": [
      "[25, 12, 10, 11, 27]\n"
     ]
    }
   ],
   "source": [
    "#Generate 5 random number between 10 and 30\n",
    "import random\n",
    "lst = random.sample(range(10,30),5)\n",
    "print(lst)"
   ]
  },
  {
   "cell_type": "markdown",
   "id": "ec2f811a",
   "metadata": {},
   "source": []
  }
 ],
 "metadata": {
  "kernelspec": {
   "display_name": "Python 3 (ipykernel)",
   "language": "python",
   "name": "python3"
  },
  "language_info": {
   "codemirror_mode": {
    "name": "ipython",
    "version": 3
   },
   "file_extension": ".py",
   "mimetype": "text/x-python",
   "name": "python",
   "nbconvert_exporter": "python",
   "pygments_lexer": "ipython3",
   "version": "3.9.12"
  }
 },
 "nbformat": 4,
 "nbformat_minor": 5
}
